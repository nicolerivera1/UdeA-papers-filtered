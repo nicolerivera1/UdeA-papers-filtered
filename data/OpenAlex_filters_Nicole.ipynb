{
  "nbformat": 4,
  "nbformat_minor": 0,
  "metadata": {
    "colab": {
      "provenance": []
    },
    "kernelspec": {
      "name": "python3",
      "display_name": "Python 3"
    },
    "language_info": {
      "name": "python"
    }
  },
  "cells": [
    {
      "cell_type": "markdown",
      "source": [
        "# OpenAlex filter \n",
        "\n",
        "**Run only in Google Colab**\n",
        "\n",
        "Select only University of Antioquia papers in OpenAlex database. Then filter by especific field of study."
      ],
      "metadata": {
        "id": "palt8Yv2AdcL"
      }
    },
    {
      "cell_type": "code",
      "execution_count": null,
      "metadata": {
        "id": "j3b2MoKt7Z7u"
      },
      "outputs": [],
      "source": [
        "import json\n",
        "import pandas as pd\n",
        "from google.colab import files"
      ]
    },
    {
      "cell_type": "code",
      "source": [
        "!pip install unidecode"
      ],
      "metadata": {
        "colab": {
          "base_uri": "https://localhost:8080/"
        },
        "id": "ekURbu59Ifzh",
        "outputId": "d406e576-d1c9-4e2a-8d96-6e499cf87d95"
      },
      "execution_count": null,
      "outputs": [
        {
          "output_type": "stream",
          "name": "stdout",
          "text": [
            "Looking in indexes: https://pypi.org/simple, https://us-python.pkg.dev/colab-wheels/public/simple/\n",
            "Collecting unidecode\n",
            "  Downloading Unidecode-1.3.6-py3-none-any.whl (235 kB)\n",
            "\u001b[K     |████████████████████████████████| 235 kB 4.0 MB/s \n",
            "\u001b[?25hInstalling collected packages: unidecode\n",
            "Successfully installed unidecode-1.3.6\n"
          ]
        }
      ]
    },
    {
      "cell_type": "code",
      "source": [
        "import unidecode"
      ],
      "metadata": {
        "id": "FneMfa1OIeC4"
      },
      "execution_count": null,
      "outputs": []
    },
    {
      "cell_type": "code",
      "source": [
        "from google.colab import drive\n",
        "drive.mount('/content/drive')"
      ],
      "metadata": {
        "colab": {
          "base_uri": "https://localhost:8080/"
        },
        "id": "H7i_MJ7IAazV",
        "outputId": "597119e5-00c6-427b-a459-7d9b1288532d"
      },
      "execution_count": null,
      "outputs": [
        {
          "output_type": "stream",
          "name": "stdout",
          "text": [
            "Mounted at /content/drive\n"
          ]
        }
      ]
    },
    {
      "cell_type": "code",
      "source": [
        "with open('/content/drive/MyDrive/json/openalexco.json','r') as miarchivo:\n",
        "    objeto=miarchivo.read()\n",
        "objeto=json.loads(objeto)"
      ],
      "metadata": {
        "id": "6mFlkUy_Aa1w"
      },
      "execution_count": null,
      "outputs": []
    },
    {
      "cell_type": "code",
      "source": [
        "# total len\n",
        "len(objeto)"
      ],
      "metadata": {
        "colab": {
          "base_uri": "https://localhost:8080/"
        },
        "id": "RyoOGPZbO0Hx",
        "outputId": "e30b1f67-a59a-424f-f541-e8f24a21eeca"
      },
      "execution_count": null,
      "outputs": [
        {
          "output_type": "execute_result",
          "data": {
            "text/plain": [
              "343057"
            ]
          },
          "metadata": {},
          "execution_count": 6
        }
      ]
    },
    {
      "cell_type": "markdown",
      "source": [
        "Filter article so it has at least 1 author from UdeA - https://ror.org/03bp5hc83 "
      ],
      "metadata": {
        "id": "8qtOPriXBPrL"
      }
    },
    {
      "cell_type": "code",
      "source": [
        "objeto=[ c for c in objeto if any(\n",
        "    [ any([i.get('ror')==\"https://ror.org/03bp5hc83\" for i in a.get('institutions')]) \n",
        "    for a in c.get('authorships')])\n",
        "]\n",
        "\n",
        "#len only UdeA\n",
        "len(objeto)"
      ],
      "metadata": {
        "colab": {
          "base_uri": "https://localhost:8080/"
        },
        "id": "HZGKUoiSPFVN",
        "outputId": "6359f688-4ed6-438a-d076-5521cd3edab6"
      },
      "execution_count": null,
      "outputs": [
        {
          "output_type": "execute_result",
          "data": {
            "text/plain": [
              "34291"
            ]
          },
          "metadata": {},
          "execution_count": 7
        }
      ]
    },
    {
      "cell_type": "markdown",
      "source": [
        "Function that returns true or false if at least one author is from UdeA."
      ],
      "metadata": {
        "id": "Rh8DdHywPSGn"
      }
    },
    {
      "cell_type": "code",
      "source": [
        "def filter_ror(authorships,ror=\"https://ror.org/03bp5hc83\"):\n",
        "  return any([any([i.get('ror')==\"https://ror.org/03bp5hc83\" for i in a.get('institutions')])  for a in authorships])"
      ],
      "metadata": {
        "id": "Lr1hxGoXPFch"
      },
      "execution_count": null,
      "outputs": []
    },
    {
      "cell_type": "code",
      "source": [
        "len([ c for c in objeto if filter_ror(c.get('authorships'))])"
      ],
      "metadata": {
        "colab": {
          "base_uri": "https://localhost:8080/"
        },
        "id": "7tSepRW0PFge",
        "outputId": "58e020ac-0ba2-4c70-8318-33c1d0d18e18"
      },
      "execution_count": null,
      "outputs": [
        {
          "output_type": "execute_result",
          "data": {
            "text/plain": [
              "34291"
            ]
          },
          "metadata": {},
          "execution_count": 9
        }
      ]
    },
    {
      "cell_type": "code",
      "source": [],
      "metadata": {
        "id": "EhpIs7-TAUHt"
      },
      "execution_count": null,
      "outputs": []
    },
    {
      "cell_type": "markdown",
      "source": [
        "Applying filter with pandas"
      ],
      "metadata": {
        "id": "icMZT7sQPpGG"
      }
    },
    {
      "cell_type": "code",
      "source": [
        "objeto=pd.DataFrame(objeto)"
      ],
      "metadata": {
        "id": "YcW6ug-5PrRi"
      },
      "execution_count": null,
      "outputs": []
    },
    {
      "cell_type": "code",
      "source": [
        "objeto[objeto['authorships'].apply(filter_ror)].shape"
      ],
      "metadata": {
        "colab": {
          "base_uri": "https://localhost:8080/"
        },
        "id": "oEqEtEPIP4aT",
        "outputId": "cb62d7f8-9ffe-4b73-d1c1-a59bc91c2447"
      },
      "execution_count": null,
      "outputs": [
        {
          "output_type": "execute_result",
          "data": {
            "text/plain": [
              "(34291, 25)"
            ]
          },
          "metadata": {},
          "execution_count": 11
        }
      ]
    },
    {
      "cell_type": "code",
      "source": [
        "udea_obj = objeto[objeto['authorships'].apply(filter_ror)].copy()"
      ],
      "metadata": {
        "id": "FlOeax4kP5Pt"
      },
      "execution_count": null,
      "outputs": []
    },
    {
      "cell_type": "code",
      "source": [
        "udea_obj.to_json('/content/drive/MyDrive/json/openalexcoudea.json', orient='records')"
      ],
      "metadata": {
        "id": "Nq2zvMLYQJnP"
      },
      "execution_count": null,
      "outputs": []
    },
    {
      "cell_type": "code",
      "source": [
        "def filter_ror(authorships, raw_aff=\"https://ror.org/03bp5hc83\"):\n",
        "  return any([any([i.get('ror')==\"https://ror.org/03bp5hc83\" for i in a.get('raw_affiliation_string')])  for a in authorships])"
      ],
      "metadata": {
        "id": "T4Rl1cg5CDhf"
      },
      "execution_count": null,
      "outputs": []
    },
    {
      "cell_type": "code",
      "source": [
        "# my group by group name\n",
        "def FEnFiSDi_a(authorships):\n",
        "  return any(pd.Series([ unidecode.unidecode(str(i.get('raw_affiliation_string'))) for i in authorships]).str.lower().str.contains('dinamicos'))"
      ],
      "metadata": {
        "id": "HD03EeEJFesn"
      },
      "execution_count": null,
      "outputs": []
    },
    {
      "cell_type": "code",
      "source": [
        "fendisdi = udea_obj[udea_obj['authorships'].apply(FEnFiSDi_a)].copy()"
      ],
      "metadata": {
        "id": "IGT8yxs2FwmO"
      },
      "execution_count": null,
      "outputs": []
    },
    {
      "cell_type": "code",
      "source": [
        "fendisdi.shape"
      ],
      "metadata": {
        "colab": {
          "base_uri": "https://localhost:8080/"
        },
        "id": "g46Wih8iRct0",
        "outputId": "e786574d-4534-4349-9542-13d66c2aa412"
      },
      "execution_count": null,
      "outputs": [
        {
          "output_type": "execute_result",
          "data": {
            "text/plain": [
              "(4, 25)"
            ]
          },
          "metadata": {},
          "execution_count": 19
        }
      ]
    },
    {
      "cell_type": "code",
      "source": [
        "fendisdi.head()"
      ],
      "metadata": {
        "id": "yaT_JDb7RlLq",
        "outputId": "bc655c9a-fd4a-41e0-8afc-c8784f36e889",
        "colab": {
          "base_uri": "https://localhost:8080/",
          "height": 546
        }
      },
      "execution_count": null,
      "outputs": [
        {
          "output_type": "execute_result",
          "data": {
            "text/plain": [
              "                                     id  \\\n",
              "621    https://openalex.org/W4220893505   \n",
              "12572  https://openalex.org/W2279964187   \n",
              "13827  https://openalex.org/W2113268074   \n",
              "14882  https://openalex.org/W2101104895   \n",
              "\n",
              "                                                     doi  \\\n",
              "621         https://doi.org/10.1371/journal.pcbi.1009704   \n",
              "12572             https://doi.org/10.5194/cp-12-483-2016   \n",
              "13827           https://doi.org/10.5194/cpd-11-3475-2015   \n",
              "14882  https://doi.org/10.15446/rev.fac.cienc.v4n1.49804   \n",
              "\n",
              "                                                   title  \\\n",
              "621    Elucidating multi-input processing 3-node gene...   \n",
              "12572  Climate variability and human impact in South ...   \n",
              "13827  Climate variability and human impact on the en...   \n",
              "14882  DISEÑO E IMPLEMENTACIÓN DE UNA PROPUESTA PARA ...   \n",
              "\n",
              "                                            display_name  publication_year  \\\n",
              "621    Elucidating multi-input processing 3-node gene...              2022   \n",
              "12572  Climate variability and human impact in South ...              2016   \n",
              "13827  Climate variability and human impact on the en...              2015   \n",
              "14882  DISEÑO E IMPLEMENTACIÓN DE UNA PROPUESTA PARA ...              2015   \n",
              "\n",
              "      publication_date                                                ids  \\\n",
              "621         2022-02-14  {'openalex': 'https://openalex.org/W4220893505...   \n",
              "12572       2016-02-29  {'openalex': 'https://openalex.org/W2279964187...   \n",
              "13827       2015-07-29  {'openalex': 'https://openalex.org/W2113268074...   \n",
              "14882       2015-01-01  {'openalex': 'https://openalex.org/W2101104895...   \n",
              "\n",
              "                                              host_venue             type  \\\n",
              "621    {'id': 'https://openalex.org/V86033158', 'issn...  journal-article   \n",
              "12572  {'id': 'https://openalex.org/V202457705', 'iss...  journal-article   \n",
              "13827  {'id': 'https://openalex.org/V80208192', 'issn...   posted-content   \n",
              "14882  {'id': 'https://openalex.org/V4210203330', 'is...  journal-article   \n",
              "\n",
              "                                             open_access  ...  \\\n",
              "621    {'is_oa': True, 'oa_status': 'gold', 'oa_url':...  ...   \n",
              "12572  {'is_oa': True, 'oa_status': 'gold', 'oa_url':...  ...   \n",
              "13827  {'is_oa': True, 'oa_status': 'green', 'oa_url'...  ...   \n",
              "14882  {'is_oa': True, 'oa_status': 'gold', 'oa_url':...  ...   \n",
              "\n",
              "                                                concepts  \\\n",
              "621    [{'id': 'https://openalex.org/C2778386714', 'w...   \n",
              "12572  [{'id': 'https://openalex.org/C132651083', 'wi...   \n",
              "13827  [{'id': 'https://openalex.org/C49204034', 'wik...   \n",
              "14882  [{'id': 'https://openalex.org/C15708023', 'wik...   \n",
              "\n",
              "                                                    mesh  \\\n",
              "621    [{'descriptor_ui': 'D053263', 'descriptor_name...   \n",
              "12572                                                 []   \n",
              "13827                                                 []   \n",
              "14882                                                 []   \n",
              "\n",
              "                                   alternate_host_venues  \\\n",
              "621    [{'id': 'https://openalex.org/V86033158', 'dis...   \n",
              "12572  [{'id': 'https://openalex.org/V202457705', 'di...   \n",
              "13827  [{'id': 'https://openalex.org/V80208192', 'dis...   \n",
              "14882  [{'id': 'https://openalex.org/V4210203330', 'd...   \n",
              "\n",
              "                                        referenced_works  \\\n",
              "621    [https://openalex.org/W1623155147, https://ope...   \n",
              "12572                                                 []   \n",
              "13827  [https://openalex.org/W191483835, https://open...   \n",
              "14882  [https://openalex.org/W2057120606, https://ope...   \n",
              "\n",
              "                                           related_works  \\\n",
              "621    [https://openalex.org/W485597, https://openale...   \n",
              "12572  [https://openalex.org/W1608625340, https://ope...   \n",
              "13827  [https://openalex.org/W89446244, https://opena...   \n",
              "14882                                                 []   \n",
              "\n",
              "                                        cited_by_api_url  \\\n",
              "621    https://api.openalex.org/works?filter=cites:W4...   \n",
              "12572  https://api.openalex.org/works?filter=cites:W2...   \n",
              "13827  https://api.openalex.org/works?filter=cites:W2...   \n",
              "14882  https://api.openalex.org/works?filter=cites:W2...   \n",
              "\n",
              "                                          counts_by_year  \\\n",
              "621                                                   []   \n",
              "12572  [{'year': 2022, 'cited_by_count': 9}, {'year':...   \n",
              "13827  [{'year': 2020, 'cited_by_count': 1}, {'year':...   \n",
              "14882                                                 []   \n",
              "\n",
              "                     updated_date created_date abstract_inverted_index  \n",
              "621    2022-07-30T18:01:59.689467   2022-04-03                     NaN  \n",
              "12572  2022-08-06T20:33:21.054471   2016-06-24                     NaN  \n",
              "13827                  2022-05-26   2016-06-24                     NaN  \n",
              "14882                  2022-02-03   2016-06-24                     NaN  \n",
              "\n",
              "[4 rows x 25 columns]"
            ],
            "text/html": [
              "\n",
              "  <div id=\"df-ba81c873-af03-46da-96cb-5cb80e581630\">\n",
              "    <div class=\"colab-df-container\">\n",
              "      <div>\n",
              "<style scoped>\n",
              "    .dataframe tbody tr th:only-of-type {\n",
              "        vertical-align: middle;\n",
              "    }\n",
              "\n",
              "    .dataframe tbody tr th {\n",
              "        vertical-align: top;\n",
              "    }\n",
              "\n",
              "    .dataframe thead th {\n",
              "        text-align: right;\n",
              "    }\n",
              "</style>\n",
              "<table border=\"1\" class=\"dataframe\">\n",
              "  <thead>\n",
              "    <tr style=\"text-align: right;\">\n",
              "      <th></th>\n",
              "      <th>id</th>\n",
              "      <th>doi</th>\n",
              "      <th>title</th>\n",
              "      <th>display_name</th>\n",
              "      <th>publication_year</th>\n",
              "      <th>publication_date</th>\n",
              "      <th>ids</th>\n",
              "      <th>host_venue</th>\n",
              "      <th>type</th>\n",
              "      <th>open_access</th>\n",
              "      <th>...</th>\n",
              "      <th>concepts</th>\n",
              "      <th>mesh</th>\n",
              "      <th>alternate_host_venues</th>\n",
              "      <th>referenced_works</th>\n",
              "      <th>related_works</th>\n",
              "      <th>cited_by_api_url</th>\n",
              "      <th>counts_by_year</th>\n",
              "      <th>updated_date</th>\n",
              "      <th>created_date</th>\n",
              "      <th>abstract_inverted_index</th>\n",
              "    </tr>\n",
              "  </thead>\n",
              "  <tbody>\n",
              "    <tr>\n",
              "      <th>621</th>\n",
              "      <td>https://openalex.org/W4220893505</td>\n",
              "      <td>https://doi.org/10.1371/journal.pcbi.1009704</td>\n",
              "      <td>Elucidating multi-input processing 3-node gene...</td>\n",
              "      <td>Elucidating multi-input processing 3-node gene...</td>\n",
              "      <td>2022</td>\n",
              "      <td>2022-02-14</td>\n",
              "      <td>{'openalex': 'https://openalex.org/W4220893505...</td>\n",
              "      <td>{'id': 'https://openalex.org/V86033158', 'issn...</td>\n",
              "      <td>journal-article</td>\n",
              "      <td>{'is_oa': True, 'oa_status': 'gold', 'oa_url':...</td>\n",
              "      <td>...</td>\n",
              "      <td>[{'id': 'https://openalex.org/C2778386714', 'w...</td>\n",
              "      <td>[{'descriptor_ui': 'D053263', 'descriptor_name...</td>\n",
              "      <td>[{'id': 'https://openalex.org/V86033158', 'dis...</td>\n",
              "      <td>[https://openalex.org/W1623155147, https://ope...</td>\n",
              "      <td>[https://openalex.org/W485597, https://openale...</td>\n",
              "      <td>https://api.openalex.org/works?filter=cites:W4...</td>\n",
              "      <td>[]</td>\n",
              "      <td>2022-07-30T18:01:59.689467</td>\n",
              "      <td>2022-04-03</td>\n",
              "      <td>NaN</td>\n",
              "    </tr>\n",
              "    <tr>\n",
              "      <th>12572</th>\n",
              "      <td>https://openalex.org/W2279964187</td>\n",
              "      <td>https://doi.org/10.5194/cp-12-483-2016</td>\n",
              "      <td>Climate variability and human impact in South ...</td>\n",
              "      <td>Climate variability and human impact in South ...</td>\n",
              "      <td>2016</td>\n",
              "      <td>2016-02-29</td>\n",
              "      <td>{'openalex': 'https://openalex.org/W2279964187...</td>\n",
              "      <td>{'id': 'https://openalex.org/V202457705', 'iss...</td>\n",
              "      <td>journal-article</td>\n",
              "      <td>{'is_oa': True, 'oa_status': 'gold', 'oa_url':...</td>\n",
              "      <td>...</td>\n",
              "      <td>[{'id': 'https://openalex.org/C132651083', 'wi...</td>\n",
              "      <td>[]</td>\n",
              "      <td>[{'id': 'https://openalex.org/V202457705', 'di...</td>\n",
              "      <td>[]</td>\n",
              "      <td>[https://openalex.org/W1608625340, https://ope...</td>\n",
              "      <td>https://api.openalex.org/works?filter=cites:W2...</td>\n",
              "      <td>[{'year': 2022, 'cited_by_count': 9}, {'year':...</td>\n",
              "      <td>2022-08-06T20:33:21.054471</td>\n",
              "      <td>2016-06-24</td>\n",
              "      <td>NaN</td>\n",
              "    </tr>\n",
              "    <tr>\n",
              "      <th>13827</th>\n",
              "      <td>https://openalex.org/W2113268074</td>\n",
              "      <td>https://doi.org/10.5194/cpd-11-3475-2015</td>\n",
              "      <td>Climate variability and human impact on the en...</td>\n",
              "      <td>Climate variability and human impact on the en...</td>\n",
              "      <td>2015</td>\n",
              "      <td>2015-07-29</td>\n",
              "      <td>{'openalex': 'https://openalex.org/W2113268074...</td>\n",
              "      <td>{'id': 'https://openalex.org/V80208192', 'issn...</td>\n",
              "      <td>posted-content</td>\n",
              "      <td>{'is_oa': True, 'oa_status': 'green', 'oa_url'...</td>\n",
              "      <td>...</td>\n",
              "      <td>[{'id': 'https://openalex.org/C49204034', 'wik...</td>\n",
              "      <td>[]</td>\n",
              "      <td>[{'id': 'https://openalex.org/V80208192', 'dis...</td>\n",
              "      <td>[https://openalex.org/W191483835, https://open...</td>\n",
              "      <td>[https://openalex.org/W89446244, https://opena...</td>\n",
              "      <td>https://api.openalex.org/works?filter=cites:W2...</td>\n",
              "      <td>[{'year': 2020, 'cited_by_count': 1}, {'year':...</td>\n",
              "      <td>2022-05-26</td>\n",
              "      <td>2016-06-24</td>\n",
              "      <td>NaN</td>\n",
              "    </tr>\n",
              "    <tr>\n",
              "      <th>14882</th>\n",
              "      <td>https://openalex.org/W2101104895</td>\n",
              "      <td>https://doi.org/10.15446/rev.fac.cienc.v4n1.49804</td>\n",
              "      <td>DISEÑO E IMPLEMENTACIÓN DE UNA PROPUESTA PARA ...</td>\n",
              "      <td>DISEÑO E IMPLEMENTACIÓN DE UNA PROPUESTA PARA ...</td>\n",
              "      <td>2015</td>\n",
              "      <td>2015-01-01</td>\n",
              "      <td>{'openalex': 'https://openalex.org/W2101104895...</td>\n",
              "      <td>{'id': 'https://openalex.org/V4210203330', 'is...</td>\n",
              "      <td>journal-article</td>\n",
              "      <td>{'is_oa': True, 'oa_status': 'gold', 'oa_url':...</td>\n",
              "      <td>...</td>\n",
              "      <td>[{'id': 'https://openalex.org/C15708023', 'wik...</td>\n",
              "      <td>[]</td>\n",
              "      <td>[{'id': 'https://openalex.org/V4210203330', 'd...</td>\n",
              "      <td>[https://openalex.org/W2057120606, https://ope...</td>\n",
              "      <td>[]</td>\n",
              "      <td>https://api.openalex.org/works?filter=cites:W2...</td>\n",
              "      <td>[]</td>\n",
              "      <td>2022-02-03</td>\n",
              "      <td>2016-06-24</td>\n",
              "      <td>NaN</td>\n",
              "    </tr>\n",
              "  </tbody>\n",
              "</table>\n",
              "<p>4 rows × 25 columns</p>\n",
              "</div>\n",
              "      <button class=\"colab-df-convert\" onclick=\"convertToInteractive('df-ba81c873-af03-46da-96cb-5cb80e581630')\"\n",
              "              title=\"Convert this dataframe to an interactive table.\"\n",
              "              style=\"display:none;\">\n",
              "        \n",
              "  <svg xmlns=\"http://www.w3.org/2000/svg\" height=\"24px\"viewBox=\"0 0 24 24\"\n",
              "       width=\"24px\">\n",
              "    <path d=\"M0 0h24v24H0V0z\" fill=\"none\"/>\n",
              "    <path d=\"M18.56 5.44l.94 2.06.94-2.06 2.06-.94-2.06-.94-.94-2.06-.94 2.06-2.06.94zm-11 1L8.5 8.5l.94-2.06 2.06-.94-2.06-.94L8.5 2.5l-.94 2.06-2.06.94zm10 10l.94 2.06.94-2.06 2.06-.94-2.06-.94-.94-2.06-.94 2.06-2.06.94z\"/><path d=\"M17.41 7.96l-1.37-1.37c-.4-.4-.92-.59-1.43-.59-.52 0-1.04.2-1.43.59L10.3 9.45l-7.72 7.72c-.78.78-.78 2.05 0 2.83L4 21.41c.39.39.9.59 1.41.59.51 0 1.02-.2 1.41-.59l7.78-7.78 2.81-2.81c.8-.78.8-2.07 0-2.86zM5.41 20L4 18.59l7.72-7.72 1.47 1.35L5.41 20z\"/>\n",
              "  </svg>\n",
              "      </button>\n",
              "      \n",
              "  <style>\n",
              "    .colab-df-container {\n",
              "      display:flex;\n",
              "      flex-wrap:wrap;\n",
              "      gap: 12px;\n",
              "    }\n",
              "\n",
              "    .colab-df-convert {\n",
              "      background-color: #E8F0FE;\n",
              "      border: none;\n",
              "      border-radius: 50%;\n",
              "      cursor: pointer;\n",
              "      display: none;\n",
              "      fill: #1967D2;\n",
              "      height: 32px;\n",
              "      padding: 0 0 0 0;\n",
              "      width: 32px;\n",
              "    }\n",
              "\n",
              "    .colab-df-convert:hover {\n",
              "      background-color: #E2EBFA;\n",
              "      box-shadow: 0px 1px 2px rgba(60, 64, 67, 0.3), 0px 1px 3px 1px rgba(60, 64, 67, 0.15);\n",
              "      fill: #174EA6;\n",
              "    }\n",
              "\n",
              "    [theme=dark] .colab-df-convert {\n",
              "      background-color: #3B4455;\n",
              "      fill: #D2E3FC;\n",
              "    }\n",
              "\n",
              "    [theme=dark] .colab-df-convert:hover {\n",
              "      background-color: #434B5C;\n",
              "      box-shadow: 0px 1px 3px 1px rgba(0, 0, 0, 0.15);\n",
              "      filter: drop-shadow(0px 1px 2px rgba(0, 0, 0, 0.3));\n",
              "      fill: #FFFFFF;\n",
              "    }\n",
              "  </style>\n",
              "\n",
              "      <script>\n",
              "        const buttonEl =\n",
              "          document.querySelector('#df-ba81c873-af03-46da-96cb-5cb80e581630 button.colab-df-convert');\n",
              "        buttonEl.style.display =\n",
              "          google.colab.kernel.accessAllowed ? 'block' : 'none';\n",
              "\n",
              "        async function convertToInteractive(key) {\n",
              "          const element = document.querySelector('#df-ba81c873-af03-46da-96cb-5cb80e581630');\n",
              "          const dataTable =\n",
              "            await google.colab.kernel.invokeFunction('convertToInteractive',\n",
              "                                                     [key], {});\n",
              "          if (!dataTable) return;\n",
              "\n",
              "          const docLinkHtml = 'Like what you see? Visit the ' +\n",
              "            '<a target=\"_blank\" href=https://colab.research.google.com/notebooks/data_table.ipynb>data table notebook</a>'\n",
              "            + ' to learn more about interactive tables.';\n",
              "          element.innerHTML = '';\n",
              "          dataTable['output_type'] = 'display_data';\n",
              "          await google.colab.output.renderOutput(dataTable, element);\n",
              "          const docLink = document.createElement('div');\n",
              "          docLink.innerHTML = docLinkHtml;\n",
              "          element.appendChild(docLink);\n",
              "        }\n",
              "      </script>\n",
              "    </div>\n",
              "  </div>\n",
              "  "
            ]
          },
          "metadata": {},
          "execution_count": 20
        }
      ]
    },
    {
      "cell_type": "code",
      "source": [
        "# my group by concepts\n",
        "def FEnFiSDi_c0(concepts):\n",
        "  biol = any([str(i.get('display_name')).lower()=='biology'  for i in concepts])\n",
        "  phys = any([str(i.get('display_name')).lower()=='physics'  for i in concepts])\n",
        "  f4 = any([str(i.get('display_name')).lower()=='climatology' for i in concepts])\n",
        "  return any([biol, phys, f4])\n",
        "\n",
        "def FEnFiSDi_c1(concepts):\n",
        "  f2 = any([str(i.get('display_name')).lower()=='complex systems'  for i in concepts])\n",
        "  f3 = any([str(i.get('display_name')).lower()=='computational biology'  for i in concepts])\n",
        "  f4 = any([str(i.get('display_name')).lower()=='climate model' for i in concepts])\n",
        "  return any([ f2, f3, f4])\n",
        "\n",
        "def FEnFiSDi_c2(concepts):\n",
        "  f1 = any([str(i.get('display_name')).lower()=='systems biology'  for i in concepts])\n",
        "  return any([f1])"
      ],
      "metadata": {
        "id": "UQBMxvY5KNIo"
      },
      "execution_count": 21,
      "outputs": []
    },
    {
      "cell_type": "code",
      "source": [
        "# applying filters by concept\n",
        "fenfisdi = udea_obj[udea_obj['concepts'].apply(FEnFiSDi_c0)].copy()\n",
        "Fenfisdi = fenfisdi[fenfisdi['concepts'].apply(FEnFiSDi_c1)].copy()"
      ],
      "metadata": {
        "id": "jVk98NJSLweJ"
      },
      "execution_count": 22,
      "outputs": []
    },
    {
      "cell_type": "code",
      "source": [
        "Fenfisdi.shape"
      ],
      "metadata": {
        "colab": {
          "base_uri": "https://localhost:8080/"
        },
        "id": "9URf1SXDGaQ3",
        "outputId": "8469928c-daa0-4f33-d458-b93a45649d71"
      },
      "execution_count": 23,
      "outputs": [
        {
          "output_type": "execute_result",
          "data": {
            "text/plain": [
              "(168, 25)"
            ]
          },
          "metadata": {},
          "execution_count": 23
        }
      ]
    },
    {
      "cell_type": "code",
      "source": [
        "Fenfisdi.to_json('/content/drive/MyDrive/json/openalfinal.json', orient='records')"
      ],
      "metadata": {
        "id": "WWtHULzVRahp"
      },
      "execution_count": 24,
      "outputs": []
    }
  ]
}